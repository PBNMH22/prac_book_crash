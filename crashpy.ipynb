{
 "cells": [
  {
   "cell_type": "markdown",
   "metadata": {},
   "source": [
    "even and odd"
   ]
  },
  {
   "cell_type": "code",
   "execution_count": 5,
   "metadata": {},
   "outputs": [
    {
     "name": "stdout",
     "output_type": "stream",
     "text": [
      "enter a number to check whether it is even or odd: 86\n",
      "the number you have entered 86 is even\n"
     ]
    }
   ],
   "source": [
    "number=input('enter a number to check whether it is even or odd: ')\n",
    "number=int(number)\n",
    "if number %2 == 0 :\n",
    "    print('the number you have entered '+ str(number) + ' is even.')\n",
    "else:\n",
    "    print(str(number)+ ' is odd')"
   ]
  },
  {
   "cell_type": "markdown",
   "metadata": {},
   "source": [
    "while loop"
   ]
  },
  {
   "cell_type": "code",
   "execution_count": 3,
   "metadata": {},
   "outputs": [
    {
     "name": "stdout",
     "output_type": "stream",
     "text": [
      "\n",
      " Tell me something and i will repeat back to you\n",
      "Type q to quit  dfjasd\n",
      "dfjasd\n",
      "\n",
      " Tell me something and i will repeat back to you\n",
      "Type q to quit  ajdasjd\n",
      "ajdasjd\n",
      "\n",
      " Tell me something and i will repeat back to you\n",
      "Type q to quit  q\n"
     ]
    }
   ],
   "source": [
    "prompt=\"\\n Tell me something and i will repeat back to you\"\n",
    "prompt+=\"\\nType q to quit  \"\n",
    "active=True\n",
    "while active:\n",
    "    message=input(prompt)\n",
    "    if message=='q':\n",
    "        active=False\n",
    "    else:\n",
    "        print(message)"
   ]
  },
  {
   "cell_type": "code",
   "execution_count": 4,
   "metadata": {},
   "outputs": [
    {
     "name": "stdout",
     "output_type": "stream",
     "text": [
      "\n",
      " Tell me something and i will repeat back to you\n",
      "Type q to quit  sdd\n",
      "sdd\n",
      "\n",
      " Tell me something and i will repeat back to you\n",
      "Type q to quit  sfsd\n",
      "sfsd\n",
      "\n",
      " Tell me something and i will repeat back to you\n",
      "Type q to quit  fdf\n",
      "fdf\n",
      "\n",
      " Tell me something and i will repeat back to you\n",
      "Type q to quit  a\n",
      "a\n",
      "\n",
      " Tell me something and i will repeat back to you\n",
      "Type q to quit  s\n",
      "s\n",
      "\n",
      " Tell me something and i will repeat back to you\n",
      "Type q to quit  d\n",
      "d\n",
      "\n",
      " Tell me something and i will repeat back to you\n",
      "Type q to quit  q\n"
     ]
    }
   ],
   "source": [
    "prompt=\"\\n Tell me something and i will repeat back to you\"\n",
    "prompt+=\"\\nType q to quit  \"\n",
    "while True :\n",
    "    message=input(prompt)\n",
    "    if message=='q':\n",
    "        break\n",
    "    else:\n",
    "        print(message)"
   ]
  },
  {
   "cell_type": "markdown",
   "metadata": {},
   "source": [
    "Again even odd using continue"
   ]
  },
  {
   "cell_type": "code",
   "execution_count": 6,
   "metadata": {},
   "outputs": [
    {
     "name": "stdout",
     "output_type": "stream",
     "text": [
      "1\n",
      "3\n",
      "5\n",
      "7\n",
      "9\n"
     ]
    }
   ],
   "source": [
    "number = 0\n",
    "while number < 10 :\n",
    "    number +=1\n",
    "    if number % 2 == 0:\n",
    "        continue\n",
    "    else:\n",
    "        print(number)"
   ]
  },
  {
   "cell_type": "code",
   "execution_count": 7,
   "metadata": {},
   "outputs": [],
   "source": [
    "## thank you"
   ]
  },
  {
   "cell_type": "code",
   "execution_count": 18,
   "metadata": {},
   "outputs": [
    {
     "name": "stdout",
     "output_type": "stream",
     "text": [
      "Verifying user: Sam\n",
      "Verifying user: Jack\n",
      "Verifying user: Bob\n",
      "Verifying user: Alice\n",
      "Verified users : \n",
      "\n",
      "['sam', 'jack', 'bob', 'alice']\n"
     ]
    }
   ],
   "source": [
    "uncon_users=['alice','bob','jack','sam']\n",
    "con_users=[]\n",
    "while uncon_users :\n",
    "    current_user=uncon_users.pop()\n",
    "    print(\"Verifying user: \" + current_user.title())\n",
    "    con_users.append(current_user)\n",
    "print('Verified users : \\n')\n",
    "print(con_users )"
   ]
  },
  {
   "cell_type": "code",
   "execution_count": 13,
   "metadata": {},
   "outputs": [
    {
     "data": {
      "text/plain": [
       "['sam', 'jack', 'bob', 'alice']"
      ]
     },
     "execution_count": 13,
     "metadata": {},
     "output_type": "execute_result"
    }
   ],
   "source": [
    "con_users"
   ]
  },
  {
   "cell_type": "code",
   "execution_count": 26,
   "metadata": {},
   "outputs": [
    {
     "name": "stdout",
     "output_type": "stream",
     "text": [
      "Verified users : sam\n",
      "Verified users : jack\n",
      "Verified users : bob\n",
      "Verified users : alice\n"
     ]
    }
   ],
   "source": [
    "for user in con_users:\n",
    "    print('Verified users : ' + user)"
   ]
  },
  {
   "cell_type": "code",
   "execution_count": 30,
   "metadata": {},
   "outputs": [
    {
     "name": "stdout",
     "output_type": "stream",
     "text": [
      "What is your name: deepak\n",
      "which is your fav party: nda , congnda\n",
      "would you like to invite a friend : no\n",
      "{'deepak': 'nda'}\n"
     ]
    }
   ],
   "source": [
    "# voter polling\n",
    "voter={}\n",
    "Polling=True\n",
    "while Polling:\n",
    "    name=input('What is your name: ')\n",
    "    party=input('which is your fav party: nda , cong')\n",
    "    voter[name]=party\n",
    "    frd=input('would you like to invite a friend : ')\n",
    "    if frd=='no':\n",
    "        Polling=False\n",
    "print(voter)"
   ]
  },
  {
   "cell_type": "code",
   "execution_count": 1,
   "metadata": {},
   "outputs": [],
   "source": [
    "def geet():\n",
    "    print(\"Hello user\")\n"
   ]
  },
  {
   "cell_type": "code",
   "execution_count": 2,
   "metadata": {},
   "outputs": [
    {
     "name": "stdout",
     "output_type": "stream",
     "text": [
      "Hello user\n"
     ]
    }
   ],
   "source": [
    "geet()"
   ]
  },
  {
   "cell_type": "code",
   "execution_count": 3,
   "metadata": {},
   "outputs": [
    {
     "name": "stdout",
     "output_type": "stream",
     "text": [
      "Hello user\n",
      "None\n"
     ]
    }
   ],
   "source": [
    "print(geet())"
   ]
  },
  {
   "cell_type": "code",
   "execution_count": 4,
   "metadata": {},
   "outputs": [
    {
     "name": "stdout",
     "output_type": "stream",
     "text": [
      "<function geet at 0x03449300>\n"
     ]
    }
   ],
   "source": [
    "print(geet)"
   ]
  },
  {
   "cell_type": "code",
   "execution_count": 5,
   "metadata": {},
   "outputs": [
    {
     "name": "stdout",
     "output_type": "stream",
     "text": [
      "hello dear Deepak\n"
     ]
    }
   ],
   "source": [
    "def greet(username):\n",
    "    print(\"hello dear \" + username)\n",
    "greet('Deepak')"
   ]
  },
  {
   "cell_type": "code",
   "execution_count": 8,
   "metadata": {},
   "outputs": [
    {
     "name": "stdout",
     "output_type": "stream",
     "text": [
      "hello dear Amol\n",
      "hello dear Aninash\n"
     ]
    }
   ],
   "source": [
    "greet('Amol')\n",
    "greet('Aninash')"
   ]
  },
  {
   "cell_type": "code",
   "execution_count": 1,
   "metadata": {},
   "outputs": [],
   "source": [
    "# Functions"
   ]
  },
  {
   "cell_type": "code",
   "execution_count": 17,
   "metadata": {},
   "outputs": [
    {
     "name": "stdout",
     "output_type": "stream",
     "text": [
      "printing model audi.\n",
      "printing model honda.\n",
      "printing model bmw.\n",
      "\n",
      " Succesfully printed :\n",
      "audi\n",
      "honda\n",
      "bmw\n",
      "['audi', 'honda', 'bmw']\n"
     ]
    }
   ],
   "source": [
    "def print_model(u_printed,c_printed):\n",
    "    \n",
    "    while u_printed:\n",
    "        current_design=u_printed.pop()\n",
    "        print('printing model ' + current_design + '.')\n",
    "        c_printed.append(current_design)\n",
    "    print('\\n Succesfully printed :')\n",
    "    for printed in c_printed:\n",
    "        print(printed)\n",
    "    print(c_printed)\n",
    "    \n",
    "u_printed = ['bmw','honda','audi']\n",
    "c_printed=[]\n",
    "print_model(u_printed[:],c_printed)"
   ]
  },
  {
   "cell_type": "code",
   "execution_count": 18,
   "metadata": {},
   "outputs": [
    {
     "data": {
      "text/plain": [
       "['bmw', 'honda', 'audi']"
      ]
     },
     "execution_count": 18,
     "metadata": {},
     "output_type": "execute_result"
    }
   ],
   "source": [
    "u_printed"
   ]
  },
  {
   "cell_type": "code",
   "execution_count": 19,
   "metadata": {},
   "outputs": [
    {
     "data": {
      "text/plain": [
       "['audi', 'honda', 'bmw']"
      ]
     },
     "execution_count": 19,
     "metadata": {},
     "output_type": "execute_result"
    }
   ],
   "source": [
    "c_printed"
   ]
  },
  {
   "cell_type": "code",
   "execution_count": 20,
   "metadata": {},
   "outputs": [],
   "source": [
    "## Passing arbitrary number of arguments"
   ]
  },
  {
   "cell_type": "code",
   "execution_count": 39,
   "metadata": {},
   "outputs": [
    {
     "name": "stdout",
     "output_type": "stream",
     "text": [
      "\n",
      "making a pizza following toppings: \n",
      "-pepperoni\n"
     ]
    }
   ],
   "source": [
    "def make_pizza(*topping):\n",
    "    print('\\nmaking a pizza following toppings: ')\n",
    "    for topp in topping:\n",
    "        print(\"-\" +topp)\n",
    "make_pizza('pepperoni')"
   ]
  },
  {
   "cell_type": "code",
   "execution_count": 40,
   "metadata": {},
   "outputs": [
    {
     "name": "stdout",
     "output_type": "stream",
     "text": [
      "\n",
      "making a pizza following toppings: \n",
      "-butter\n",
      "-pepperoni\n",
      "-onion\n"
     ]
    }
   ],
   "source": [
    "make_pizza('butter','pepperoni','onion')"
   ]
  },
  {
   "cell_type": "code",
   "execution_count": 41,
   "metadata": {},
   "outputs": [
    {
     "name": "stdout",
     "output_type": "stream",
     "text": [
      "{'first_name': 'Deepak', 'last_name': 'Dhage', 'location': 'Pune', 'field': 'python developer'}\n"
     ]
    }
   ],
   "source": [
    "def build_profile(first,last,**other):\n",
    "    profile={}\n",
    "    profile['first_name']=first\n",
    "    profile['last_name']=last\n",
    "    for key,value in other.items():\n",
    "        profile[key]=value\n",
    "    return profile\n",
    "user_profile=build_profile('Deepak','Dhage',location='Pune',field='python developer')\n",
    "print(user_profile)"
   ]
  },
  {
   "cell_type": "code",
   "execution_count": 44,
   "metadata": {},
   "outputs": [],
   "source": [
    "def make_pizza(size,*toppings):\n",
    "    print('\\nMaking a '+ str(size)+ '-inch piizza with following toppings : ')\n",
    "    for topping in toppings:\n",
    "        print('-'+topping)"
   ]
  },
  {
   "cell_type": "code",
   "execution_count": 46,
   "metadata": {},
   "outputs": [],
   "source": [
    "import pizza"
   ]
  },
  {
   "cell_type": "code",
   "execution_count": 47,
   "metadata": {},
   "outputs": [
    {
     "name": "stdout",
     "output_type": "stream",
     "text": [
      "\n",
      "Making a 15-inch piizza with following toppings : \n",
      "-peperoni\n"
     ]
    }
   ],
   "source": [
    "make_pizza(15,'peperoni')"
   ]
  },
  {
   "cell_type": "code",
   "execution_count": 48,
   "metadata": {},
   "outputs": [
    {
     "name": "stdout",
     "output_type": "stream",
     "text": [
      "\n",
      "Making a 12-inch piizza with following toppings : \n",
      "-lemon\n",
      "-onion\n",
      "-butter\n"
     ]
    }
   ],
   "source": [
    "make_pizza(12,'lemon','onion','butter')"
   ]
  },
  {
   "cell_type": "markdown",
   "metadata": {},
   "source": [
    "# classes"
   ]
  },
  {
   "cell_type": "code",
   "execution_count": 10,
   "metadata": {},
   "outputs": [
    {
     "name": "stdout",
     "output_type": "stream",
     "text": [
      "2018 Audi A4\n",
      "This car has 0 miles on it .\n"
     ]
    }
   ],
   "source": [
    "# Seting a default value for an attribute.\n",
    "class Car():\n",
    "    \n",
    "    def __init__(self,make,model,year):\n",
    "        self.make=make\n",
    "        self.model=model\n",
    "        self.year=year\n",
    "        self.odometer_reading=0 #attribute value\n",
    "    \n",
    "    \n",
    "    def get_descriptive_name(self):\n",
    "        long_name=str(self.year)+' '+self.make+' '+self.model\n",
    "        return long_name.title()\n",
    "    def read_odometer(self):\n",
    "        print('This car has'+' '+ str(self.odometer_reading)+' miles on it .')\n",
    "    \n",
    "my_new_car=Car('Audi','A4',2018)\n",
    "print(my_new_car.get_descriptive_name())\n",
    "my_new_car.read_odometer()"
   ]
  },
  {
   "cell_type": "code",
   "execution_count": 20,
   "metadata": {},
   "outputs": [
    {
     "name": "stdout",
     "output_type": "stream",
     "text": [
      "2018 A4 Audi\n",
      "This car has 50 km on it\n"
     ]
    }
   ],
   "source": [
    "# modifying an attrubute value\n",
    "class Car():\n",
    "    \n",
    "    def __init__(self,make,model,year):\n",
    "        self.make=make\n",
    "        self.model=model\n",
    "        self.year=year\n",
    "        self.odometer_reading=0\n",
    "    \n",
    "    \n",
    "    def get_descriptive_name(self):\n",
    "        long_name=str(self.year) + ' ' + self.model +' ' + self.make\n",
    "        return long_name\n",
    "    \n",
    "    \n",
    "    def read_odometer(self):\n",
    "        print('This car has '+ str(self.odometer_reading)+' km on it')\n",
    "    \n",
    "my_new_car=Car('Audi','A4',2018)\n",
    "\n",
    "#modified attribute directly through an instance\n",
    "\n",
    "my_new_car.odometer_reading=50 \n",
    "\n",
    "print(my_new_car.get_descriptive_name())\n",
    "my_new_car.read_odometer()\n",
    "        "
   ]
  },
  {
   "cell_type": "code",
   "execution_count": 26,
   "metadata": {},
   "outputs": [
    {
     "name": "stdout",
     "output_type": "stream",
     "text": [
      "2018 A4 Audi\n",
      "This car has 60 km on it\n"
     ]
    }
   ],
   "source": [
    "# modifying attribute value through a method\n",
    "\n",
    "class Car():\n",
    "    \n",
    "    def __init__(self,make,model,year):\n",
    "        self.make=make\n",
    "        self.model=model\n",
    "        self.year=year\n",
    "        self.odometer_reading=0\n",
    "    \n",
    "    def get_descriptive_name(self):\n",
    "        long_name=str(self.year)+' '+self.model+ ' '+ self.make\n",
    "        return long_name\n",
    "    \n",
    "    def read_odometer(self):\n",
    "        print('This car has '+str(self.odometer_reading)+' km on it')\n",
    "    \n",
    "    def update_odometer(self,mileage):\n",
    "        self.odometer_reading=mileage\n",
    "\n",
    "\n",
    "my_new_car=Car('Audi','A4',2018)\n",
    "print(my_new_car.get_descriptive_name())\n",
    "\n",
    "my_new_car.update_odometer(60)\n",
    "my_new_car.read_odometer()\n",
    "        "
   ]
  },
  {
   "cell_type": "code",
   "execution_count": 27,
   "metadata": {},
   "outputs": [],
   "source": [
    "import copy"
   ]
  },
  {
   "cell_type": "code",
   "execution_count": 28,
   "metadata": {},
   "outputs": [
    {
     "name": "stdout",
     "output_type": "stream",
     "text": [
      "Help on function copy in module copy:\n",
      "\n",
      "copy(x)\n",
      "    Shallow copy operation on arbitrary Python objects.\n",
      "    \n",
      "    See the module's __doc__ string for more info.\n",
      "\n"
     ]
    }
   ],
   "source": [
    "help(copy.copy)"
   ]
  },
  {
   "cell_type": "code",
   "execution_count": 29,
   "metadata": {},
   "outputs": [
    {
     "data": {
      "text/plain": [
       "'0b1001110'"
      ]
     },
     "execution_count": 29,
     "metadata": {},
     "output_type": "execute_result"
    }
   ],
   "source": [
    "bin(78)"
   ]
  },
  {
   "cell_type": "code",
   "execution_count": null,
   "metadata": {},
   "outputs": [],
   "source": []
  }
 ],
 "metadata": {
  "kernelspec": {
   "display_name": "Python 3",
   "language": "python",
   "name": "python3"
  },
  "language_info": {
   "codemirror_mode": {
    "name": "ipython",
    "version": 3
   },
   "file_extension": ".py",
   "mimetype": "text/x-python",
   "name": "python",
   "nbconvert_exporter": "python",
   "pygments_lexer": "ipython3",
   "version": "3.7.2"
  }
 },
 "nbformat": 4,
 "nbformat_minor": 2
}
