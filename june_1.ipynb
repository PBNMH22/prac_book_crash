{
 "cells": [
  {
   "cell_type": "code",
   "execution_count": 13,
   "metadata": {},
   "outputs": [
    {
     "name": "stdout",
     "output_type": "stream",
     "text": [
      "2018 A4 Audi\n",
      "this car has 40 km on it\n",
      "this car has 2350 km on it\n",
      "this car has 2450 km on it\n"
     ]
    }
   ],
   "source": [
    "''' A class that can be used to repesent a car'''\n",
    "\n",
    "class Car():\n",
    "    ''' A simple attempt to reprsent a car'''\n",
    "    \n",
    "    def __init__(self,make,model,year):\n",
    "        '''Initialize attribute to describe a car'''\n",
    "        \n",
    "        self.make=make\n",
    "        self.model=model\n",
    "        self.year=year\n",
    "        self.read_odometer=0\n",
    "    \n",
    "    def get_discriptive_name(self):\n",
    "        \n",
    "        long_name=str(self.year)+\" \"+self.model+\" \"+self.make\n",
    "        return long_name.title()\n",
    "    \n",
    "    def read_odometers(self):\n",
    "        '''print a statement that shows cars mileage'''\n",
    "        \n",
    "        print('this car has '+str(self.read_odometer)+' km on it')\n",
    "        \n",
    "    def update_odometer(self,mileage):\n",
    "        \n",
    "        if mileage>=self.read_odometer :\n",
    "            self.read_odometer=mileage\n",
    "        \n",
    "        else:\n",
    "            print('you cant rooll back an odometer')\n",
    "    \n",
    "    def incriment_odometer(self,miles):\n",
    "        self.read_odometer+=miles\n",
    "\n",
    "        \n",
    "my_car=Car('audi','A4',2018)\n",
    "print(my_car.get_discriptive_name())\n",
    "\n",
    "\n",
    "\n",
    "\n",
    "my_car.read_odometer=40    \n",
    "my_car.read_odometers()  \n",
    "my_car.update_odometer(2350)\n",
    "my_car.read_odometers()\n",
    "my_car.incriment_odometer(100)\n",
    "my_car.read_odometers()"
   ]
  },
  {
   "cell_type": "code",
   "execution_count": null,
   "metadata": {},
   "outputs": [],
   "source": []
  }
 ],
 "metadata": {
  "kernelspec": {
   "display_name": "Python 3",
   "language": "python",
   "name": "python3"
  },
  "language_info": {
   "codemirror_mode": {
    "name": "ipython",
    "version": 3
   },
   "file_extension": ".py",
   "mimetype": "text/x-python",
   "name": "python",
   "nbconvert_exporter": "python",
   "pygments_lexer": "ipython3",
   "version": "3.7.2"
  }
 },
 "nbformat": 4,
 "nbformat_minor": 2
}
